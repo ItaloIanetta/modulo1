{
  "nbformat": 4,
  "nbformat_minor": 0,
  "metadata": {
    "colab": {
      "provenance": []
    },
    "kernelspec": {
      "name": "python3",
      "display_name": "Python 3"
    },
    "language_info": {
      "name": "python"
    }
  },
  "cells": [
    {
      "cell_type": "code",
      "source": [],
      "metadata": {
        "id": "763rGipmosma"
      },
      "execution_count": null,
      "outputs": []
    },
    {
      "source": [
        "#Operação de repetição para que o usuario possa usar a calculadora a seu dispor\n",
        "while True:\n",
        "\n",
        "#comando para que o usuario inclua os numeros de sua escolha\n",
        "    try:\n",
        "        num1 = float(input(\"Coloque o primeiro número: \"))\n",
        "        num2 = float(input(\"Coloque o segundo número: \"))\n",
        "        break\n",
        "    except ValueError:\n",
        "        print(\"Número inválido. Por favor, use números válidos.\")\n",
        "\n",
        "#operação de repetição para que o usuario faça varias operações ou saia da calculadora\n",
        "while True:\n",
        "    operation = input(\"Escolha uma operação (+, -, *, /, or 'x' para sair): \")\n",
        "\n",
        "    if operation == 'x':\n",
        "      print(\"Operação finalizada\")\n",
        "      break\n",
        "\n",
        "    if operation in ('+', '-', '*', '/'):\n",
        "        if operation == '+':\n",
        "            result = num1 + num2\n",
        "        elif operation == '-':\n",
        "            result = num1 - num2\n",
        "        elif operation == '*':\n",
        "            result = num1 * num2\n",
        "        elif operation == '/':\n",
        "            if num2 == 0:\n",
        "                print(\"Erro: Divisão por zero!\")\n",
        "                continue\n",
        "            else:\n",
        "                result = num1 / num2\n",
        "\n",
        "        print(\"Result:\", result)\n",
        "    else:\n",
        "        print(\"Operação inválido. Por favor escolha +, -, *, /, or 'x'.\")\n"
      ],
      "cell_type": "code",
      "metadata": {
        "colab": {
          "base_uri": "https://localhost:8080/"
        },
        "id": "i4CeoBNVpNss",
        "outputId": "b883be50-a519-452d-9a43-be4387a9b3a5"
      },
      "execution_count": 7,
      "outputs": [
        {
          "output_type": "stream",
          "name": "stdout",
          "text": [
            "Coloque o primeiro numero: 1\n",
            "Coloque o segundo numero: 54\n",
            "Escolha uma operação (+, -, *, /, or 'x' para sair): x\n",
            "operacao finalizada\n"
          ]
        }
      ]
    }
  ]
}