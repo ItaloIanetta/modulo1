{
  "nbformat": 4,
  "nbformat_minor": 0,
  "metadata": {
    "colab": {
      "provenance": []
    },
    "kernelspec": {
      "name": "python3",
      "display_name": "Python 3"
    },
    "language_info": {
      "name": "python"
    }
  },
  "cells": [
    {
      "cell_type": "markdown",
      "source": [
        "Esse arquivo está vazio, apenas um teste sobre como usar o git"
      ],
      "metadata": {
        "id": "GaYR6EaX1x3r"
      }
    }
  ]
}